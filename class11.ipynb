{
 "cells": [
  {
   "cell_type": "markdown",
   "metadata": {
    "id": "834t49zymVdO"
   },
   "source": [
    "# In-class exercises Class 11\n",
    "\n",
    "---\n",
    "\n",
    "Functions and modules allow us to gather code statements into a single block that can be called from anywhere else in the program. Functions are useful for avoiding code duplication and also make the overall program easier to modify and easier to understand.   Indeed, it is good programming style to write your program so that, as much as is practical, all tasks are put into functions where each function does one thing and is simple to understand. And best of all, functions are easy to use in Python!!!"
   ]
  },
  {
   "cell_type": "code",
   "execution_count": null,
   "metadata": {},
   "outputs": [],
   "source": []
  },
  {
   "cell_type": "code",
   "execution_count": 49,
   "metadata": {},
   "outputs": [],
   "source": [
    "#simple function syntax\n",
    "def my_print_func(in_var):  #the in_var is passed into the function - you may use any name for this\n",
    "    print(f\"you passed the variable {in_var}\\n\\n\")"
   ]
  },
  {
   "cell_type": "markdown",
   "metadata": {},
   "source": [
    "Now we can use a simply function call:"
   ]
  },
  {
   "cell_type": "code",
   "execution_count": 50,
   "metadata": {},
   "outputs": [
    {
     "name": "stdout",
     "output_type": "stream",
     "text": [
      "you passed the variable test\n",
      "\n",
      "\n",
      "you passed the variable 35\n",
      "\n",
      "\n",
      "you passed the variable 43.404\n",
      "\n",
      "\n",
      "you passed the variable ['test1', 38]\n",
      "\n",
      "\n"
     ]
    }
   ],
   "source": [
    "my_print_func(\"test\")  #I can pass in a string\n",
    "my_print_func(35)  #I can pass in an integer\n",
    "my_print_func(43.404) #I can pass in a float\n",
    "my_list=[\"test1\",38]  \n",
    "my_print_func(my_list)  #I can pass in a variable name, this one contains a list...  "
   ]
  },
  {
   "cell_type": "markdown",
   "metadata": {},
   "source": [
    "BEWARE:  IF YOU CHANGE THE VALUE OF A LOCAL VARIABLE IN A FUNCTION, IT DOES NOT CHANGE THE VARIABLE OUTSIDE THE FUNCTION SCOPE"
   ]
  },
  {
   "cell_type": "code",
   "execution_count": 2,
   "metadata": {},
   "outputs": [
    {
     "name": "stdout",
     "output_type": "stream",
     "text": [
      "var=2\n",
      "x=1\n",
      "var=2\n",
      "x=1\n"
     ]
    }
   ],
   "source": [
    "def change_var(var):\n",
    "    var=var+1\n",
    "    print(f\"var={var}\")\n",
    "    \n",
    "x=1\n",
    "change_var(x)\n",
    "print(f\"x={x}\")\n",
    "change_var(x)\n",
    "print(f\"x={x}\")"
   ]
  },
  {
   "cell_type": "markdown",
   "metadata": {},
   "source": [
    "If we want to calculate a value that persists in a function, we need to \"return\" the value:"
   ]
  },
  {
   "cell_type": "code",
   "execution_count": 3,
   "metadata": {},
   "outputs": [
    {
     "name": "stdout",
     "output_type": "stream",
     "text": [
      "var=2\n",
      "x=2\n",
      "var=3\n",
      "x=3\n"
     ]
    }
   ],
   "source": [
    "def change_var2(var):\n",
    "    var=var+1\n",
    "    print(f\"var={var}\")\n",
    "    return var\n",
    "    \n",
    "x=1\n",
    "x=change_var2(x)\n",
    "print(f\"x={x}\")\n",
    "x=change_var2(x)\n",
    "print(f\"x={x}\")"
   ]
  },
  {
   "cell_type": "markdown",
   "metadata": {},
   "source": [
    "We can return as many values as we want:"
   ]
  },
  {
   "cell_type": "code",
   "execution_count": 5,
   "metadata": {},
   "outputs": [
    {
     "name": "stdout",
     "output_type": "stream",
     "text": [
      "x+1=2  x-1=0\n"
     ]
    }
   ],
   "source": [
    "def change_var3(var):\n",
    "    var1=var+1\n",
    "    var2=var-1\n",
    "    return var1,var2\n",
    "x=1\n",
    "xp1,xm1=change_var3(x)\n",
    "print(f\"x+1={xp1}  x-1={xm1}\")"
   ]
  },
  {
   "cell_type": "markdown",
   "metadata": {},
   "source": [
    "Of course, this was a VERY simple function.  We can do more complicated things... "
   ]
  },
  {
   "cell_type": "code",
   "execution_count": 51,
   "metadata": {},
   "outputs": [],
   "source": [
    "import numpy as np\n",
    "#return an arrays of random numbers\n",
    "YMIN=-1\n",
    "YMAX=1\n",
    "XMIN=-1\n",
    "XMAX=1\n",
    "SEED=1\n",
    "\n",
    "def rand_array(N,myseed):   \n",
    "    np.random.seed(myseed)\n",
    "    x=np.random.random(N)*(YMAX-YMIN)-YMAX \n",
    "    y=np.random.random(N)*(XMAX-XMIN)-XMAX\n",
    "    return x,y\n",
    "\n",
    "def calc_pi(N,seed=SEED):  #Example of providing a default input variable\n",
    "    print(f\"seed={seed}\\n\")\n",
    "    x,y=rand_array(N,seed)\n",
    "    n_in=np.count_nonzero(np.less(np.sqrt(x*x+y*y),1))\n",
    "    my_pi=(XMAX-XMIN)*(YMAX-YMIN)*n_in/N\n",
    "    return my_pi\n"
   ]
  },
  {
   "cell_type": "markdown",
   "metadata": {},
   "source": [
    "Now, I can calculate pi with a simple function call:"
   ]
  },
  {
   "cell_type": "code",
   "execution_count": 52,
   "metadata": {},
   "outputs": [
    {
     "name": "stdout",
     "output_type": "stream",
     "text": [
      "seed=1\n",
      "\n",
      "3.1528\n"
     ]
    }
   ],
   "source": [
    "my_pi=calc_pi(10000,1)\n",
    "print(my_pi)"
   ]
  },
  {
   "cell_type": "code",
   "execution_count": 53,
   "metadata": {},
   "outputs": [
    {
     "name": "stdout",
     "output_type": "stream",
     "text": [
      "seed=2\n",
      "\n",
      "3.1368\n"
     ]
    }
   ],
   "source": [
    "my_pi=calc_pi(10000,2)\n",
    "print(my_pi)"
   ]
  },
  {
   "cell_type": "markdown",
   "metadata": {},
   "source": [
    "Because we provided a default value for seed in our function declaration, we are not required to use one when calling the function (this can be very useful!):"
   ]
  },
  {
   "cell_type": "markdown",
   "metadata": {},
   "source": [
    "my_pi=calc_pi(1000000)\n",
    "print(my_pi)"
   ]
  },
  {
   "cell_type": "markdown",
   "metadata": {},
   "source": [
    "Now, lets say you have some functions that you have defined in a script, a .py file.  In the instructions I asked you to copy over a file called pi_functions.py, where I have implemented the functions above.  Take a look at that file and run it - you can do that from the command line, or straight from the Jupyter Notebook:"
   ]
  },
  {
   "cell_type": "code",
   "execution_count": 6,
   "metadata": {},
   "outputs": [
    {
     "name": "stdout",
     "output_type": "stream",
     "text": [
      "You are executing the main function of pi_functions.py\n",
      "N=10000, seed=1\n",
      "\n",
      "3.1528\n"
     ]
    }
   ],
   "source": [
    "\n",
    "%run pi_functions.py \n"
   ]
  },
  {
   "cell_type": "markdown",
   "metadata": {},
   "source": [
    "Wow that was easy!  Now we know how to execute scripts from Jupyter!   \n",
    "\n",
    "But, what if we just wanted to use one of the functions in that file.  We could simply import the module and run the function.  We just have to do one extra thing to our .py file.  Rather than just call the main function, we should only call the main function if we are running the script.  That is, we don't want to call the main function when we import the file into Jupyter or another script.  We need to add a conditional for our main function call:\n",
    "\n",
    "\n",
    "![code](image.png)\n",
    "\n"
   ]
  },
  {
   "cell_type": "markdown",
   "metadata": {},
   "source": [
    "Let's try to import it as a module and use the functions from our script:"
   ]
  },
  {
   "cell_type": "code",
   "execution_count": 55,
   "metadata": {},
   "outputs": [
    {
     "name": "stdout",
     "output_type": "stream",
     "text": [
      "N=10000, seed=1\n",
      "\n"
     ]
    },
    {
     "data": {
      "text/plain": [
       "3.1528"
      ]
     },
     "execution_count": 55,
     "metadata": {},
     "output_type": "execute_result"
    }
   ],
   "source": [
    "import pi_functions  #this imports all of the functions from pi_functions\n",
    "pi_functions.calc_pi(10000)  #To call a function use pi_functions.<func_name>"
   ]
  },
  {
   "cell_type": "code",
   "execution_count": 56,
   "metadata": {},
   "outputs": [
    {
     "name": "stdout",
     "output_type": "stream",
     "text": [
      "N=100000, seed=2\n",
      "\n"
     ]
    },
    {
     "data": {
      "text/plain": [
       "3.13172"
      ]
     },
     "execution_count": 56,
     "metadata": {},
     "output_type": "execute_result"
    }
   ],
   "source": [
    "pi_functions.calc_pi(100000,2)"
   ]
  },
  {
   "cell_type": "markdown",
   "metadata": {},
   "source": [
    "Now you know how to make useful code that you write reusable in your future projects!!!  "
   ]
  },
  {
   "cell_type": "markdown",
   "metadata": {},
   "source": [
    "## **EXERCISE 1**:  \n",
    "<span style=\"color:red\"> Call the rand_array function directy from pi_functions and print the result to the returned arrays to the screen   </red>"
   ]
  },
  {
   "cell_type": "code",
   "execution_count": 57,
   "metadata": {},
   "outputs": [],
   "source": [
    "#Put your code here"
   ]
  },
  {
   "cell_type": "markdown",
   "metadata": {},
   "source": [
    "In your book, you also read about \"lambda\", \"map\", and \"filter\" functions.   The lambda functions provides a convenient method to create short un-named functinos to be used in place:"
   ]
  },
  {
   "cell_type": "code",
   "execution_count": 38,
   "metadata": {},
   "outputs": [
    {
     "name": "stdout",
     "output_type": "stream",
     "text": [
      "8\n"
     ]
    }
   ],
   "source": [
    "#syntax:  lambda [arg1,...,argN]  :expression\n",
    "cube = lambda x: x**3  #Use lamda to define a cube function\n",
    "print(cube(2))\n",
    "        "
   ]
  },
  {
   "cell_type": "markdown",
   "metadata": {},
   "source": [
    "The map functions maps a function call onto each member of a sequence, and often the function call is a lambda function (but it does not have to be):"
   ]
  },
  {
   "cell_type": "code",
   "execution_count": null,
   "metadata": {},
   "outputs": [],
   "source": [
    "#syntax:  result=map(function,sequence)\n",
    "my_ints=[1,2,3,4]\n",
    "cubes=map(lambda x: x**3,my_ints)\n",
    "print(list(cubes))\n"
   ]
  },
  {
   "cell_type": "markdown",
   "metadata": {},
   "source": [
    "Here is an example using a user-defined function:"
   ]
  },
  {
   "cell_type": "code",
   "execution_count": 43,
   "metadata": {},
   "outputs": [
    {
     "name": "stdout",
     "output_type": "stream",
     "text": [
      "[2, 4, 6, 8]\n"
     ]
    }
   ],
   "source": [
    "# Return double of n\n",
    "def addition(n):\n",
    "    return n + n\n",
    "  \n",
    "# We double all numbers using map()\n",
    "numbers = (1, 2, 3, 4)\n",
    "result = map(addition, numbers)\n",
    "print(list(result))"
   ]
  },
  {
   "cell_type": "markdown",
   "metadata": {},
   "source": [
    "The filter funtion does just that "
   ]
  },
  {
   "cell_type": "code",
   "execution_count": 47,
   "metadata": {},
   "outputs": [
    {
     "name": "stdout",
     "output_type": "stream",
     "text": [
      "[-2, -1, 0, 1, 2, 3]\n",
      "[2, 3]\n"
     ]
    }
   ],
   "source": [
    "int_list=list(range(-2,4))\n",
    "print(int_list)\n",
    "filtered_list= filter((lambda x:  x>1),int_list)\n",
    "print(list(filtered_list))"
   ]
  },
  {
   "cell_type": "markdown",
   "metadata": {},
   "source": [
    "## **EXERCISE 2**:  \n",
    "<span style=\"color:red\"> Make a list of integers between 0 and 100.  Use a lambda function and filter to print out only the numbers divisible by 7 </red>"
   ]
  },
  {
   "cell_type": "code",
   "execution_count": 48,
   "metadata": {},
   "outputs": [],
   "source": [
    "#Input your code here"
   ]
  },
  {
   "cell_type": "markdown",
   "metadata": {},
   "source": [
    "1b)  Based on what you learned in the Notebook: Write a python program (a script) called <username>_pi_functions.py.  This program should import the module that I wrote pi_functions.py so that it can use the functions within.  In your program, write functions that will a) do the MC integration many times N_MC set by a command line variable at the top of your program (make sure to use a different random seed for each calculation), and b) calculate the mean, and standard deviation of your N_MC results and print it to the screen. \n"
   ]
  }
 ],
 "metadata": {
  "kernelspec": {
   "display_name": "Python 3 (ipykernel)",
   "language": "python",
   "name": "python3"
  },
  "language_info": {
   "codemirror_mode": {
    "name": "ipython",
    "version": 3
   },
   "file_extension": ".py",
   "mimetype": "text/x-python",
   "name": "python",
   "nbconvert_exporter": "python",
   "pygments_lexer": "ipython3",
   "version": "3.8.8"
  }
 },
 "nbformat": 4,
 "nbformat_minor": 4
}
